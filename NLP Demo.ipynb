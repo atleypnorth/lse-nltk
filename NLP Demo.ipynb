{
 "cells": [
  {
   "cell_type": "markdown",
   "metadata": {},
   "source": [
    "# NLP Using NLTK\n",
    "\n",
    "You may already have NLTK installed if you started out via Anaconda/Miniconda, if the import fails, just run `pip install nltk`.\n",
    "\n",
    "Also if you arent using Anaconda make sure seaborn is install `pip install seaborn`\n",
    "\n",
    "Also `pip install tweepy`\n",
    "\n",
    "First, we need to download some sample data, luckily, nltk makes this super easy. This can be sluggish on a slower internet connection."
   ]
  },
  {
   "cell_type": "code",
   "execution_count": 2,
   "metadata": {},
   "outputs": [
    {
     "name": "stdout",
     "output_type": "stream",
     "text": [
      "[nltk_data] Downloading package twitter_samples to nltk-data...\n",
      "[nltk_data]   Package twitter_samples is already up-to-date!\n",
      "[nltk_data] Downloading package vader_lexicon to nltk-data...\n",
      "[nltk_data]   Package vader_lexicon is already up-to-date!\n"
     ]
    },
    {
     "data": {
      "text/plain": [
       "True"
      ]
     },
     "execution_count": 2,
     "metadata": {},
     "output_type": "execute_result"
    }
   ],
   "source": [
    "import nltk\n",
    "import os\n",
    "\n",
    "# Set the below if you'd like your NLTK files to go somewhere else,\n",
    "# by default they're dropped into AppData/Roaming\n",
    "download_directory = r'nltk-data'\n",
    "nltk.data.path.append(download_directory)\n",
    "\n",
    "nltk.download('twitter_samples', download_directory)\n",
    "nltk.download('vader_lexicon', download_directory)"
   ]
  },
  {
   "cell_type": "code",
   "execution_count": 3,
   "metadata": {},
   "outputs": [
    {
     "name": "stdout",
     "output_type": "stream",
     "text": [
      "Larry is smart, handsome, and funny.\n",
      "compound: 0.8316, neg: 0.0, neu: 0.254, pos: 0.746, \n",
      "---\n",
      "Larry is smart, handsome, and funny!\n",
      "compound: 0.8439, neg: 0.0, neu: 0.248, pos: 0.752, \n",
      "---\n",
      "Larry is very smart, handsome, and funny.\n",
      "compound: 0.8545, neg: 0.0, neu: 0.299, pos: 0.701, \n",
      "---\n",
      "Larry is VERY SMART, handsome, and FUNNY.\n",
      "compound: 0.9227, neg: 0.0, neu: 0.246, pos: 0.754, \n",
      "---\n",
      "Larry is VERY SMART, handsome, and FUNNY!!!\n",
      "compound: 0.9342, neg: 0.0, neu: 0.233, pos: 0.767, \n",
      "---\n",
      "Larry is VERY SMART, really handsome, and INCREDIBLY FUNNY!!!\n",
      "compound: 0.9469, neg: 0.0, neu: 0.294, pos: 0.706, \n",
      "---\n",
      "The book was good.\n",
      "compound: 0.4404, neg: 0.0, neu: 0.508, pos: 0.492, \n",
      "---\n",
      "The book was kind of good.\n",
      "compound: 0.3832, neg: 0.0, neu: 0.657, pos: 0.343, \n",
      "---\n",
      "The plot was good, but the characters are uncompelling and the dialog is not great.\n",
      "compound: -0.7042, neg: 0.327, neu: 0.579, pos: 0.094, \n",
      "---\n",
      "A really bad, horrible book.\n",
      "compound: -0.8211, neg: 0.791, neu: 0.209, pos: 0.0, \n",
      "---\n",
      "At least it isn't a horrible book.\n",
      "compound: 0.431, neg: 0.0, neu: 0.637, pos: 0.363, \n",
      "---\n",
      ":) and :D\n",
      "compound: 0.7925, neg: 0.0, neu: 0.124, pos: 0.876, \n",
      "---\n",
      "\n",
      "compound: 0.0, neg: 0.0, neu: 0.0, pos: 0.0, \n",
      "---\n",
      "Today sux\n",
      "compound: -0.3612, neg: 0.714, neu: 0.286, pos: 0.0, \n",
      "---\n",
      "Today sux!\n",
      "compound: -0.4199, neg: 0.736, neu: 0.264, pos: 0.0, \n",
      "---\n",
      "Today SUX!\n",
      "compound: -0.5461, neg: 0.779, neu: 0.221, pos: 0.0, \n",
      "---\n",
      "Today kinda sux! But I'll get by, lol\n",
      "compound: 0.2228, neg: 0.195, neu: 0.531, pos: 0.274, \n",
      "---\n"
     ]
    },
    {
     "name": "stderr",
     "output_type": "stream",
     "text": [
      "c:\\dev\\lse-ml\\venv\\lib\\site-packages\\nltk\\twitter\\__init__.py:20: UserWarning: The twython library has not been installed. Some functionality from the twitter package will not be available.\n",
      "  warnings.warn(\"The twython library has not been installed. \"\n"
     ]
    }
   ],
   "source": [
    "from nltk.sentiment.vader import SentimentIntensityAnalyzer\n",
    "sid = SentimentIntensityAnalyzer()\n",
    "\n",
    "sentences = [\n",
    "    \"Larry is smart, handsome, and funny.\", # positive sentence example\n",
    "    \"Larry is smart, handsome, and funny!\", # punctuation emphasis handled correctly (sentiment intensity adjusted)\n",
    "    \"Larry is very smart, handsome, and funny.\",  # booster words handled correctly (sentiment intensity adjusted)\n",
    "    \"Larry is VERY SMART, handsome, and FUNNY.\",  # emphasis for ALLCAPS handled\n",
    "    \"Larry is VERY SMART, handsome, and FUNNY!!!\",# combination of signals - VADER appropriately adjusts intensity\n",
    "    \"Larry is VERY SMART, really handsome, and INCREDIBLY FUNNY!!!\",# booster words & punctuation make this close to ceiling for score\n",
    "    \"The book was good.\",         # positive sentence\n",
    "    \"The book was kind of good.\", # qualified positive sentence is handled correctly (intensity adjusted)\n",
    "    \"The plot was good, but the characters are uncompelling and the dialog is not great.\", # mixed negation sentence\n",
    "    \"A really bad, horrible book.\",       # negative sentence with booster words\n",
    "    \"At least it isn't a horrible book.\", # negated negative sentence with contraction\n",
    "    \":) and :D\",     # emoticons handled\n",
    "    \"\",              # an empty string is correctly handled\n",
    "    \"Today sux\",     #  negative slang handled\n",
    "    \"Today sux!\",    #  negative slang with punctuation emphasis handled\n",
    "    \"Today SUX!\",    #  negative slang with capitalization emphasis\n",
    "    \"Today kinda sux! But I'll get by, lol\" # mixed sentiment example with slang and constrastive conjunction \"but\"\n",
    "]\n",
    "\n",
    "for sentence in sentences:\n",
    "    print(sentence)\n",
    "    \n",
    "    ss = sid.polarity_scores(sentence)\n",
    "    for k in sorted(ss):\n",
    "        print('{0}: {1}, '.format(k, ss[k]), end='')\n",
    "    \n",
    "    print()\n",
    "    print('---')"
   ]
  },
  {
   "cell_type": "code",
   "execution_count": 4,
   "metadata": {},
   "outputs": [
    {
     "name": "stdout",
     "output_type": "stream",
     "text": [
      "Apple is a great company\n",
      "compound: 0.6249, neg: 0.0, neu: 0.423, pos: 0.577, \n",
      "---\n",
      "Microsoft collapsed in 2007\n",
      "compound: -0.2732, neg: 0.412, neu: 0.588, pos: 0.0, \n",
      "---\n",
      "Microsoft collapsed horribly in 2007\n",
      "compound: -0.6705, neg: 0.647, neu: 0.353, pos: 0.0, \n",
      "---\n",
      "Apple is a great at being bad\n",
      "compound: 0.1531, neg: 0.302, neu: 0.345, pos: 0.353, \n",
      "---\n"
     ]
    }
   ],
   "source": [
    "custom_sentences = [\n",
    "    'Apple is a great company',\n",
    "    'Microsoft collapsed in 2007',\n",
    "    'Microsoft collapsed horribly in 2007',\n",
    "    'Apple is a great at being bad'\n",
    "]\n",
    "\n",
    "for sentence in custom_sentences:\n",
    "    print(sentence)\n",
    "    \n",
    "    scores = sid.polarity_scores(sentence)\n",
    "    for key in sorted(scores):\n",
    "        print('{0}: {1}, '.format(key, scores[key]), end='')\n",
    "    \n",
    "    print()\n",
    "    print('---')"
   ]
  },
  {
   "cell_type": "code",
   "execution_count": 5,
   "metadata": {},
   "outputs": [
    {
     "name": "stdout",
     "output_type": "stream",
     "text": [
      "5000\n",
      "5000\n"
     ]
    }
   ],
   "source": [
    "from nltk.corpus import twitter_samples\n",
    "\n",
    "positive_tweets = twitter_samples.strings('positive_tweets.json')\n",
    "negative_tweets = twitter_samples.strings('negative_tweets.json')\n",
    "\n",
    "print(len(positive_tweets))\n",
    "print(len(negative_tweets))\n",
    "\n",
    "scored_pos_tweets = [(sid.polarity_scores(tweet), tweet) for tweet in positive_tweets]\n",
    "scored_neg_tweets = [(sid.polarity_scores(tweet), tweet) for tweet in negative_tweets]"
   ]
  },
  {
   "cell_type": "code",
   "execution_count": 10,
   "metadata": {},
   "outputs": [
    {
     "name": "stderr",
     "output_type": "stream",
     "text": [
      "c:\\dev\\lse-ml\\venv\\lib\\site-packages\\matplotlib\\figure.py:418: UserWarning: matplotlib is currently using a non-GUI backend, so cannot show the figure\n",
      "  \"matplotlib is currently using a non-GUI backend, \"\n"
     ]
    },
    {
     "data": {
      "image/png": "[encoded data removed]",
      "text/plain": [
       "<matplotlib.figure.Figure at 0x1d92690d0f0>"
      ]
     },
     "metadata": {},
     "output_type": "display_data"
    }
   ],
   "source": [
    "import seaborn as sns\n",
    "import matplotlib.pyplot as plt\n",
    "%matplotlib inline\n",
    "\n",
    "pos_scores = [round(s['compound'], 1) for s, t in scored_pos_tweets]\n",
    "neg_scores = [round(s['compound'], 1) for s, t in scored_neg_tweets]\n",
    "\n",
    "fig, axs = plt.subplots(nrows=2, figsize=(10,10))\n",
    "\n",
    "pos = sns.countplot(pos_scores, palette='RdYlGn', ax=axs[0])\n",
    "neg = sns.countplot(neg_scores, palette='RdYlGn', ax=axs[1])\n",
    "pos.set_title('Positive Tweets')\n",
    "neg.set_title('Negative Tweets')\n",
    "\n",
    "fig.show()"
   ]
  },
  {
   "cell_type": "code",
   "execution_count": 6,
   "metadata": {},
   "outputs": [
    {
     "name": "stdout",
     "output_type": "stream",
     "text": [
      "There :) is :) a :) pimple :) on :) my :) forehead :) the :) size :) of :) a :) volcano :)\n",
      "\n",
      "A year ago I married my first love and my best friend.  Thanks for an amazing year Glenn!  I love being your wife! :) http://t.co/CbiP1LHLuc\n",
      "\n",
      "Lol :D @akshaykumar i know it was your idea :p coz you have unforgettable sense of humor ;) :) :D love you bro :* https://t.co/qiyrhDK9eB\n",
      "\n",
      "When the managers at your job tell you and your friend that you are the two prettiest girls there :) :) :) :) :) :) :)\n",
      "\n",
      "@clmazin @johnaugust Norhing but the Dialogue was so helpful! More like this please! Love you guys :)\n",
      "\n",
      "@IGNUK #1TBPS4 Wow! what a prize! so delightful for my eyes, pick me to win and I will burst and sing \"PS4 is mine and I feel divine\" :)\n",
      "\n",
      "-----------------------------\n",
      ":( :( :( when pay day doesn't make you any less poor :( :( :(\n",
      "\n",
      "Nearly 50 dead and over 100 wounded reported in bomb attacks in #Iraq. In one week over 300 human beings killed :(  http://t.co/OsxLd1LLG5\n",
      "\n",
      "being sad for no reason sucks because u dunno how to stop being sad so u just gotta chill in ur room and listen to music &amp; b alone :(\n",
      "\n",
      "@S1dharthM Come online and follow people :/ What z wrong in me?! Y do u ignore me Sidharth?!?!! :( :(\n",
      "\n"
     ]
    }
   ],
   "source": [
    "# Select some of the highest scoring positive tweets\n",
    "sorted_pos_tweets = sorted(scored_pos_tweets, key=lambda x: x[0]['compound'], reverse=True)\n",
    "for score, tweet in sorted_pos_tweets[:6]:\n",
    "    print(tweet, end='\\n\\n')\n",
    "\n",
    "print('-----------------------------')\n",
    "\n",
    "sorted_neg_tweets = sorted(scored_neg_tweets, key=lambda x: x[0]['compound'])\n",
    "# Manually filtered due to very strong language :-)\n",
    "print(sorted_neg_tweets[1][1], end='\\n\\n')\n",
    "print(sorted_neg_tweets[2][1], end='\\n\\n')\n",
    "print(sorted_neg_tweets[7][1], end='\\n\\n')\n",
    "print(sorted_neg_tweets[9][1], end='\\n\\n')"
   ]
  },
  {
   "cell_type": "code",
   "execution_count": 7,
   "metadata": {},
   "outputs": [
    {
     "name": "stdout",
     "output_type": "stream",
     "text": [
      "1600\n",
      "“Statement from President Donald J. Trump on #GivingTuesday” https://t.co/NrfnmixAwR\n"
     ]
    }
   ],
   "source": [
    "import tweepy\n",
    "import json\n",
    "\n",
    "with open(r'c:\\dev\\twitter.json') as f:\n",
    "    creds = json.load(f)\n",
    "    \n",
    "# Change these to your keys from your twitter application\n",
    "auth = tweepy.OAuthHandler(creds['consumer']['key'], creds['consumer']['secret'])\n",
    "auth.set_access_token(creds['app']['key'], creds['app']['secret'])\n",
    "\n",
    "api = tweepy.API(auth)\n",
    "\n",
    "dt_tweets = []\n",
    "\n",
    "pages = 80\n",
    "for pnum in range(pages):\n",
    "    dt_tweets.extend(api.user_timeline('realDonaldTrump', page=pnum))\n",
    "\n",
    "num_of_tweets = len(dt_tweets)\n",
    "print(num_of_tweets)\n",
    "print(dt_tweets[0].text)"
   ]
  },
  {
   "cell_type": "code",
   "execution_count": 8,
   "metadata": {},
   "outputs": [
    {
     "name": "stdout",
     "output_type": "stream",
     "text": [
      "Twitter for iPhone: 1421 tweets\n",
      "Twitter for iPad: 19 tweets\n",
      "Media Studio: 104 tweets\n",
      "Twitter Web Client: 39 tweets\n",
      "Twitter Ads: 17 tweets\n"
     ]
    }
   ],
   "source": [
    "from collections import defaultdict\n",
    "split_by_source = defaultdict(list)\n",
    "\n",
    "for tweet in dt_tweets:\n",
    "    split_by_source[tweet.source].append(tweet)\n",
    "\n",
    "k_to_delete = []\n",
    "for k, v in split_by_source.items():\n",
    "    num_tweets = len(v)\n",
    "    print('%s: %s tweets' % (k, num_tweets))\n",
    "    if num_tweets < (num_of_tweets * 0.025):\n",
    "        k_to_delete.append(k)\n",
    "\n",
    "for key in k_to_delete:\n",
    "    del split_by_source[key]"
   ]
  },
  {
   "cell_type": "code",
   "execution_count": 11,
   "metadata": {
    "scrolled": false
   },
   "outputs": [
    {
     "name": "stdout",
     "output_type": "stream",
     "text": [
      "Twitter for iPhone\n",
      "Media Studio\n"
     ]
    },
    {
     "data": {
      "image/png": "[encoded data removed]",
      "text/plain": [
       "<matplotlib.figure.Figure at 0x1d92d4733c8>"
      ]
     },
     "metadata": {},
     "output_type": "display_data"
    }
   ],
   "source": [
    "fig, axs = plt.subplots(nrows=len(split_by_source), figsize=(10,10))\n",
    "fig.subplots_adjust(hspace=.5)\n",
    "axes_count = 0\n",
    "\n",
    "for key, tweets in split_by_source.items():\n",
    "    print(key)\n",
    "    scored_tweets = []\n",
    "    for tweet in tweets:\n",
    "        scored_tweets.append((sid.polarity_scores(tweet.text), tweet.text))\n",
    "    \n",
    "    scores = [round(s['compound'], 1) for s, t in scored_tweets]\n",
    "    plot = sns.countplot(scores, palette='RdYlGn', ax=axs[axes_count])\n",
    "    plot.set_title(key)\n",
    "    axes_count += 1"
   ]
  },
  {
   "cell_type": "code",
   "execution_count": 42,
   "metadata": {},
   "outputs": [
    {
     "name": "stdout",
     "output_type": "stream",
     "text": [
      "1\n"
     ]
    }
   ],
   "source": [
    "print(dt_tweets[0].created_at.weekday())\n",
    "data = {'weekday': [], 'compound': []}\n",
    "data_by_hour = {'hour': [], 'compound': []}\n",
    "for tweet in dt_tweets:\n",
    "    data['weekday'].append(tweet.created_at.weekday())\n",
    "    data['compound'].append(sid.polarity_scores(tweet.text)['compound'])\n",
    "    data_by_hour['hour'].append(tweet.created_at.hour)\n",
    "    data_by_hour['compound'].append(sid.polarity_scores(tweet.text)['compound'])\n",
    "    "
   ]
  },
  {
   "cell_type": "code",
   "execution_count": 44,
   "metadata": {},
   "outputs": [
    {
     "data": {
      "text/plain": [
       "<matplotlib.axes._subplots.AxesSubplot at 0x1d933b46780>"
      ]
     },
     "execution_count": 44,
     "metadata": {},
     "output_type": "execute_result"
    },
    {
     "data": {
      "image/png": "[encoded data removed]",
      "text/plain": [
       "<matplotlib.figure.Figure at 0x1d935701b70>"
      ]
     },
     "metadata": {},
     "output_type": "display_data"
    }
   ],
   "source": [
    "fig, axs = plt.subplots(nrows=2, figsize=(10,10))\n",
    "sns.boxplot(x=\"weekday\", y=\"compound\", data=data, ax=axs[0])\n",
    "sns.boxplot(x=\"hour\", y=\"compound\", data=data_by_hour, ax=axs[1])\n"
   ]
  }
 ],
 "metadata": {
  "kernelspec": {
   "display_name": "Python 3",
   "language": "python",
   "name": "python3"
  },
  "language_info": {
   "codemirror_mode": {
    "name": "ipython",
    "version": 3
   },
   "file_extension": ".py",
   "mimetype": "text/x-python",
   "name": "python",
   "nbconvert_exporter": "python",
   "pygments_lexer": "ipython3",
   "version": "3.6.3"
  }
 },
 "nbformat": 4,
 "nbformat_minor": 2
}
